{
  "nbformat": 4,
  "nbformat_minor": 0,
  "metadata": {
    "colab": {
      "name": "#Task-1 Iris flowers .ipynb",
      "provenance": [],
      "collapsed_sections": [],
      "authorship_tag": "ABX9TyPZHbx/+OAchAsmmmhC1NKQ",
      "include_colab_link": true
    },
    "kernelspec": {
      "name": "python3",
      "display_name": "Python 3"
    },
    "language_info": {
      "name": "python"
    }
  },
  "cells": [
    {
      "cell_type": "markdown",
      "metadata": {
        "id": "view-in-github",
        "colab_type": "text"
      },
      "source": [
        "<a href=\"https://colab.research.google.com/github/G-Poornima/LetsGrowMore---Data-Analysis-Internship/blob/main/_Task_1_Iris_flowers_.ipynb\" target=\"_parent\"><img src=\"https://colab.research.google.com/assets/colab-badge.svg\" alt=\"Open In Colab\"/></a>"
      ]
    },
    {
      "cell_type": "markdown",
      "metadata": {
        "id": "IIvYy5C2kM4m"
      },
      "source": [
        "## LOADING NECESSARY LIBRARIES"
      ]
    },
    {
      "cell_type": "code",
      "metadata": {
        "colab": {
          "base_uri": "https://localhost:8080/"
        },
        "id": "UW9UlDW_kR6p",
        "outputId": "1112bcda-5309-4a54-93c0-cd55f025de2a"
      },
      "source": [
        "import pandas as pd \n",
        "import numpy as np\n",
        "import seaborn as sns\n",
        "sns.set_palette('husl')\n",
        "import matplotlib.pyplot as plt\n",
        "\n",
        "from sklearn.preprocessing import LabelEncoder\n",
        "from sklearn.model_selection import train_test_split\n",
        "from sklearn.neighbors import KNeighborsClassifier\n",
        "\n",
        "print (\"The libraries are loaded successfully.\")"
      ],
      "execution_count": 1,
      "outputs": [
        {
          "output_type": "stream",
          "name": "stdout",
          "text": [
            "The libraries are loaded successfully.\n"
          ]
        }
      ]
    },
    {
      "cell_type": "markdown",
      "metadata": {
        "id": "qluC61hejns2"
      },
      "source": [
        "## LOADING AND READING THE DATA\n"
      ]
    },
    {
      "cell_type": "code",
      "metadata": {
        "colab": {
          "base_uri": "https://localhost:8080/"
        },
        "id": "Sxoh4uAadcc7",
        "outputId": "ed762bd1-40a3-4917-c75f-66d778186734"
      },
      "source": [
        "iris = pd.read_csv(\"/IRIS.csv\")\n",
        "print (\"The dataset is loaded and read succesfully.\")"
      ],
      "execution_count": null,
      "outputs": [
        {
          "output_type": "stream",
          "name": "stdout",
          "text": [
            "The dataset is loaded and read succesfully.\n"
          ]
        }
      ]
    },
    {
      "cell_type": "code",
      "metadata": {
        "colab": {
          "base_uri": "https://localhost:8080/",
          "height": 417
        },
        "id": "lcJal_qvedxH",
        "outputId": "37c7f934-d2d0-4dbe-cd48-afab72c0c5eb"
      },
      "source": [
        "iris"
      ],
      "execution_count": null,
      "outputs": [
        {
          "output_type": "execute_result",
          "data": {
            "text/html": [
              "<div>\n",
              "<style scoped>\n",
              "    .dataframe tbody tr th:only-of-type {\n",
              "        vertical-align: middle;\n",
              "    }\n",
              "\n",
              "    .dataframe tbody tr th {\n",
              "        vertical-align: top;\n",
              "    }\n",
              "\n",
              "    .dataframe thead th {\n",
              "        text-align: right;\n",
              "    }\n",
              "</style>\n",
              "<table border=\"1\" class=\"dataframe\">\n",
              "  <thead>\n",
              "    <tr style=\"text-align: right;\">\n",
              "      <th></th>\n",
              "      <th>id</th>\n",
              "      <th>sepal_length_cms</th>\n",
              "      <th>sepal_width_cms</th>\n",
              "      <th>petal_length_cms</th>\n",
              "      <th>petal_width_cms</th>\n",
              "      <th>species</th>\n",
              "    </tr>\n",
              "  </thead>\n",
              "  <tbody>\n",
              "    <tr>\n",
              "      <th>0</th>\n",
              "      <td>1</td>\n",
              "      <td>5.1</td>\n",
              "      <td>3.5</td>\n",
              "      <td>1.4</td>\n",
              "      <td>0.2</td>\n",
              "      <td>Iris-setosa</td>\n",
              "    </tr>\n",
              "    <tr>\n",
              "      <th>1</th>\n",
              "      <td>2</td>\n",
              "      <td>4.9</td>\n",
              "      <td>3.0</td>\n",
              "      <td>1.4</td>\n",
              "      <td>0.2</td>\n",
              "      <td>Iris-setosa</td>\n",
              "    </tr>\n",
              "    <tr>\n",
              "      <th>2</th>\n",
              "      <td>3</td>\n",
              "      <td>4.7</td>\n",
              "      <td>3.2</td>\n",
              "      <td>1.3</td>\n",
              "      <td>0.2</td>\n",
              "      <td>Iris-setosa</td>\n",
              "    </tr>\n",
              "    <tr>\n",
              "      <th>3</th>\n",
              "      <td>4</td>\n",
              "      <td>4.6</td>\n",
              "      <td>3.1</td>\n",
              "      <td>1.5</td>\n",
              "      <td>0.2</td>\n",
              "      <td>Iris-setosa</td>\n",
              "    </tr>\n",
              "    <tr>\n",
              "      <th>4</th>\n",
              "      <td>5</td>\n",
              "      <td>5.0</td>\n",
              "      <td>3.6</td>\n",
              "      <td>1.4</td>\n",
              "      <td>0.2</td>\n",
              "      <td>Iris-setosa</td>\n",
              "    </tr>\n",
              "    <tr>\n",
              "      <th>...</th>\n",
              "      <td>...</td>\n",
              "      <td>...</td>\n",
              "      <td>...</td>\n",
              "      <td>...</td>\n",
              "      <td>...</td>\n",
              "      <td>...</td>\n",
              "    </tr>\n",
              "    <tr>\n",
              "      <th>145</th>\n",
              "      <td>146</td>\n",
              "      <td>6.7</td>\n",
              "      <td>3.0</td>\n",
              "      <td>5.2</td>\n",
              "      <td>2.3</td>\n",
              "      <td>Iris-virginica</td>\n",
              "    </tr>\n",
              "    <tr>\n",
              "      <th>146</th>\n",
              "      <td>147</td>\n",
              "      <td>6.3</td>\n",
              "      <td>2.5</td>\n",
              "      <td>5.0</td>\n",
              "      <td>1.9</td>\n",
              "      <td>Iris-virginica</td>\n",
              "    </tr>\n",
              "    <tr>\n",
              "      <th>147</th>\n",
              "      <td>148</td>\n",
              "      <td>6.5</td>\n",
              "      <td>3.0</td>\n",
              "      <td>5.2</td>\n",
              "      <td>2.0</td>\n",
              "      <td>Iris-virginica</td>\n",
              "    </tr>\n",
              "    <tr>\n",
              "      <th>148</th>\n",
              "      <td>149</td>\n",
              "      <td>6.2</td>\n",
              "      <td>3.4</td>\n",
              "      <td>5.4</td>\n",
              "      <td>2.3</td>\n",
              "      <td>Iris-virginica</td>\n",
              "    </tr>\n",
              "    <tr>\n",
              "      <th>149</th>\n",
              "      <td>150</td>\n",
              "      <td>5.9</td>\n",
              "      <td>3.0</td>\n",
              "      <td>5.1</td>\n",
              "      <td>1.8</td>\n",
              "      <td>Iris-virginica</td>\n",
              "    </tr>\n",
              "  </tbody>\n",
              "</table>\n",
              "<p>150 rows × 6 columns</p>\n",
              "</div>"
            ],
            "text/plain": [
              "      id  sepal_length_cms  ...  petal_width_cms         species\n",
              "0      1               5.1  ...              0.2     Iris-setosa\n",
              "1      2               4.9  ...              0.2     Iris-setosa\n",
              "2      3               4.7  ...              0.2     Iris-setosa\n",
              "3      4               4.6  ...              0.2     Iris-setosa\n",
              "4      5               5.0  ...              0.2     Iris-setosa\n",
              "..   ...               ...  ...              ...             ...\n",
              "145  146               6.7  ...              2.3  Iris-virginica\n",
              "146  147               6.3  ...              1.9  Iris-virginica\n",
              "147  148               6.5  ...              2.0  Iris-virginica\n",
              "148  149               6.2  ...              2.3  Iris-virginica\n",
              "149  150               5.9  ...              1.8  Iris-virginica\n",
              "\n",
              "[150 rows x 6 columns]"
            ]
          },
          "metadata": {},
          "execution_count": 4
        }
      ]
    },
    {
      "cell_type": "markdown",
      "metadata": {
        "id": "uRIpuNru-dOl"
      },
      "source": [
        "#### The complete Dataset with 150 rows and 6 columns."
      ]
    },
    {
      "cell_type": "markdown",
      "metadata": {
        "id": "lipShPzkj97V"
      },
      "source": [
        "## DATA WRANGLING AND UNDERSTANDING THE DATA\n"
      ]
    },
    {
      "cell_type": "code",
      "metadata": {
        "colab": {
          "base_uri": "https://localhost:8080/"
        },
        "id": "cWRiDdQmewKg",
        "outputId": "7fbc9e43-cf96-475a-9710-6fbe8dd3d9bd"
      },
      "source": [
        "#returns the datatypes of all columns\n",
        "iris.dtypes"
      ],
      "execution_count": null,
      "outputs": [
        {
          "output_type": "execute_result",
          "data": {
            "text/plain": [
              "id                    int64\n",
              "sepal_length_cms    float64\n",
              "sepal_width_cms     float64\n",
              "petal_length_cms    float64\n",
              "petal_width_cms     float64\n",
              "species              object\n",
              "dtype: object"
            ]
          },
          "metadata": {},
          "execution_count": 19
        }
      ]
    },
    {
      "cell_type": "markdown",
      "metadata": {
        "id": "lLviWBoelcX1"
      },
      "source": [
        "#### It is now clear that the data types and the values of the column match perfectly, so there is no need for converting any value/column's datatype from one to other."
      ]
    },
    {
      "cell_type": "code",
      "metadata": {
        "colab": {
          "base_uri": "https://localhost:8080/"
        },
        "id": "5YjqIvlGmKCX",
        "outputId": "7836d573-59a9-43be-c5b5-310038d6e1b1"
      },
      "source": [
        "#general information about the dataset\n",
        "iris.info()"
      ],
      "execution_count": null,
      "outputs": [
        {
          "output_type": "stream",
          "name": "stdout",
          "text": [
            "<class 'pandas.core.frame.DataFrame'>\n",
            "RangeIndex: 150 entries, 0 to 149\n",
            "Data columns (total 6 columns):\n",
            " #   Column            Non-Null Count  Dtype  \n",
            "---  ------            --------------  -----  \n",
            " 0   id                150 non-null    int64  \n",
            " 1   sepal_length_cms  150 non-null    float64\n",
            " 2   sepal_width_cms   150 non-null    float64\n",
            " 3   petal_length_cms  150 non-null    float64\n",
            " 4   petal_width_cms   150 non-null    float64\n",
            " 5   species           150 non-null    object \n",
            "dtypes: float64(4), int64(1), object(1)\n",
            "memory usage: 7.2+ KB\n"
          ]
        }
      ]
    },
    {
      "cell_type": "code",
      "metadata": {
        "colab": {
          "base_uri": "https://localhost:8080/"
        },
        "id": "Y3aD-6PulWO5",
        "outputId": "3db8e7fa-1ecf-4f1c-dbe2-af4c4b79ebf5"
      },
      "source": [
        "#returns count of the unique values\n",
        "iris.value_counts()"
      ],
      "execution_count": null,
      "outputs": [
        {
          "output_type": "execute_result",
          "data": {
            "text/plain": [
              "id   sepal_length_cms  sepal_width_cms  petal_length_cms  petal_width_cms  species        \n",
              "150  5.9               3.0              5.1               1.8              Iris-virginica     1\n",
              "56   5.7               2.8              4.5               1.3              Iris-versicolor    1\n",
              "54   5.5               2.3              4.0               1.3              Iris-versicolor    1\n",
              "53   6.9               3.1              4.9               1.5              Iris-versicolor    1\n",
              "52   6.4               3.2              4.5               1.5              Iris-versicolor    1\n",
              "                                                                                             ..\n",
              "100  5.7               2.8              4.1               1.3              Iris-versicolor    1\n",
              "99   5.1               2.5              3.0               1.1              Iris-versicolor    1\n",
              "98   6.2               2.9              4.3               1.3              Iris-versicolor    1\n",
              "97   5.7               2.9              4.2               1.3              Iris-versicolor    1\n",
              "1    5.1               3.5              1.4               0.2              Iris-setosa        1\n",
              "Length: 150, dtype: int64"
            ]
          },
          "metadata": {},
          "execution_count": 22
        }
      ]
    },
    {
      "cell_type": "markdown",
      "metadata": {
        "id": "iWymGIuirGp1"
      },
      "source": [
        "#### The result set is in descending order with the most frequent value on top. "
      ]
    },
    {
      "cell_type": "code",
      "metadata": {
        "colab": {
          "base_uri": "https://localhost:8080/"
        },
        "id": "Cov8ljtMlwcN",
        "outputId": "9dc59c42-9d13-4ca6-c4e8-60435af1ac51"
      },
      "source": [
        "#checking for the total number of null values in each column.\n",
        "iris.isnull().sum()"
      ],
      "execution_count": null,
      "outputs": [
        {
          "output_type": "execute_result",
          "data": {
            "text/plain": [
              "id                  0\n",
              "sepal_length_cms    0\n",
              "sepal_width_cms     0\n",
              "petal_length_cms    0\n",
              "petal_width_cms     0\n",
              "species             0\n",
              "dtype: int64"
            ]
          },
          "metadata": {},
          "execution_count": 24
        }
      ]
    },
    {
      "cell_type": "markdown",
      "metadata": {
        "id": "G3PPGRNCt74H"
      },
      "source": [
        "#### There are no null values in any of the column. "
      ]
    },
    {
      "cell_type": "code",
      "metadata": {
        "colab": {
          "base_uri": "https://localhost:8080/"
        },
        "id": "IpxZiIDAtwXO",
        "outputId": "74afaf8e-df27-4765-de27-2048c39aa904"
      },
      "source": [
        "#checking for total number of duplicate values\n",
        "iris.duplicated().sum()"
      ],
      "execution_count": null,
      "outputs": [
        {
          "output_type": "execute_result",
          "data": {
            "text/plain": [
              "0"
            ]
          },
          "metadata": {},
          "execution_count": 26
        }
      ]
    },
    {
      "cell_type": "markdown",
      "metadata": {
        "id": "2QZUqcFluv_3"
      },
      "source": [
        "#### There are no duplicate values in the dataset."
      ]
    },
    {
      "cell_type": "code",
      "metadata": {
        "colab": {
          "base_uri": "https://localhost:8080/",
          "height": 388
        },
        "id": "cER4wj7XusmN",
        "outputId": "8084d0f6-0788-4c91-bb02-6b1ba53ae33b"
      },
      "source": [
        "#statistical summary of all the columns\n",
        "#\"include\" parameter gives the summary of all columns including the ones with the datatype 'object' \n",
        "iris.describe(include = \"all\")"
      ],
      "execution_count": null,
      "outputs": [
        {
          "output_type": "execute_result",
          "data": {
            "text/html": [
              "<div>\n",
              "<style scoped>\n",
              "    .dataframe tbody tr th:only-of-type {\n",
              "        vertical-align: middle;\n",
              "    }\n",
              "\n",
              "    .dataframe tbody tr th {\n",
              "        vertical-align: top;\n",
              "    }\n",
              "\n",
              "    .dataframe thead th {\n",
              "        text-align: right;\n",
              "    }\n",
              "</style>\n",
              "<table border=\"1\" class=\"dataframe\">\n",
              "  <thead>\n",
              "    <tr style=\"text-align: right;\">\n",
              "      <th></th>\n",
              "      <th>id</th>\n",
              "      <th>sepal_length_cms</th>\n",
              "      <th>sepal_width_cms</th>\n",
              "      <th>petal_length_cms</th>\n",
              "      <th>petal_width_cms</th>\n",
              "      <th>species</th>\n",
              "    </tr>\n",
              "  </thead>\n",
              "  <tbody>\n",
              "    <tr>\n",
              "      <th>count</th>\n",
              "      <td>150.000000</td>\n",
              "      <td>150.000000</td>\n",
              "      <td>150.000000</td>\n",
              "      <td>150.000000</td>\n",
              "      <td>150.000000</td>\n",
              "      <td>150</td>\n",
              "    </tr>\n",
              "    <tr>\n",
              "      <th>unique</th>\n",
              "      <td>NaN</td>\n",
              "      <td>NaN</td>\n",
              "      <td>NaN</td>\n",
              "      <td>NaN</td>\n",
              "      <td>NaN</td>\n",
              "      <td>3</td>\n",
              "    </tr>\n",
              "    <tr>\n",
              "      <th>top</th>\n",
              "      <td>NaN</td>\n",
              "      <td>NaN</td>\n",
              "      <td>NaN</td>\n",
              "      <td>NaN</td>\n",
              "      <td>NaN</td>\n",
              "      <td>Iris-versicolor</td>\n",
              "    </tr>\n",
              "    <tr>\n",
              "      <th>freq</th>\n",
              "      <td>NaN</td>\n",
              "      <td>NaN</td>\n",
              "      <td>NaN</td>\n",
              "      <td>NaN</td>\n",
              "      <td>NaN</td>\n",
              "      <td>50</td>\n",
              "    </tr>\n",
              "    <tr>\n",
              "      <th>mean</th>\n",
              "      <td>75.500000</td>\n",
              "      <td>5.843333</td>\n",
              "      <td>3.054000</td>\n",
              "      <td>3.758667</td>\n",
              "      <td>1.198667</td>\n",
              "      <td>NaN</td>\n",
              "    </tr>\n",
              "    <tr>\n",
              "      <th>std</th>\n",
              "      <td>43.445368</td>\n",
              "      <td>0.828066</td>\n",
              "      <td>0.433594</td>\n",
              "      <td>1.764420</td>\n",
              "      <td>0.763161</td>\n",
              "      <td>NaN</td>\n",
              "    </tr>\n",
              "    <tr>\n",
              "      <th>min</th>\n",
              "      <td>1.000000</td>\n",
              "      <td>4.300000</td>\n",
              "      <td>2.000000</td>\n",
              "      <td>1.000000</td>\n",
              "      <td>0.100000</td>\n",
              "      <td>NaN</td>\n",
              "    </tr>\n",
              "    <tr>\n",
              "      <th>25%</th>\n",
              "      <td>38.250000</td>\n",
              "      <td>5.100000</td>\n",
              "      <td>2.800000</td>\n",
              "      <td>1.600000</td>\n",
              "      <td>0.300000</td>\n",
              "      <td>NaN</td>\n",
              "    </tr>\n",
              "    <tr>\n",
              "      <th>50%</th>\n",
              "      <td>75.500000</td>\n",
              "      <td>5.800000</td>\n",
              "      <td>3.000000</td>\n",
              "      <td>4.350000</td>\n",
              "      <td>1.300000</td>\n",
              "      <td>NaN</td>\n",
              "    </tr>\n",
              "    <tr>\n",
              "      <th>75%</th>\n",
              "      <td>112.750000</td>\n",
              "      <td>6.400000</td>\n",
              "      <td>3.300000</td>\n",
              "      <td>5.100000</td>\n",
              "      <td>1.800000</td>\n",
              "      <td>NaN</td>\n",
              "    </tr>\n",
              "    <tr>\n",
              "      <th>max</th>\n",
              "      <td>150.000000</td>\n",
              "      <td>7.900000</td>\n",
              "      <td>4.400000</td>\n",
              "      <td>6.900000</td>\n",
              "      <td>2.500000</td>\n",
              "      <td>NaN</td>\n",
              "    </tr>\n",
              "  </tbody>\n",
              "</table>\n",
              "</div>"
            ],
            "text/plain": [
              "                id  sepal_length_cms  ...  petal_width_cms          species\n",
              "count   150.000000        150.000000  ...       150.000000              150\n",
              "unique         NaN               NaN  ...              NaN                3\n",
              "top            NaN               NaN  ...              NaN  Iris-versicolor\n",
              "freq           NaN               NaN  ...              NaN               50\n",
              "mean     75.500000          5.843333  ...         1.198667              NaN\n",
              "std      43.445368          0.828066  ...         0.763161              NaN\n",
              "min       1.000000          4.300000  ...         0.100000              NaN\n",
              "25%      38.250000          5.100000  ...         0.300000              NaN\n",
              "50%      75.500000          5.800000  ...         1.300000              NaN\n",
              "75%     112.750000          6.400000  ...         1.800000              NaN\n",
              "max     150.000000          7.900000  ...         2.500000              NaN\n",
              "\n",
              "[11 rows x 6 columns]"
            ]
          },
          "metadata": {},
          "execution_count": 31
        }
      ]
    },
    {
      "cell_type": "code",
      "metadata": {
        "colab": {
          "base_uri": "https://localhost:8080/"
        },
        "id": "XUuB5ZjTkjxF",
        "outputId": "06890d36-57c4-4cbe-f824-c321a974282e"
      },
      "source": [
        "#checking for unique species\n",
        "iris['species'].unique()"
      ],
      "execution_count": null,
      "outputs": [
        {
          "output_type": "execute_result",
          "data": {
            "text/plain": [
              "array(['Iris-setosa', 'Iris-versicolor', 'Iris-virginica'], dtype=object)"
            ]
          },
          "metadata": {},
          "execution_count": 6
        }
      ]
    },
    {
      "cell_type": "code",
      "metadata": {
        "colab": {
          "base_uri": "https://localhost:8080/",
          "height": 142
        },
        "id": "GP_kTPZik-vB",
        "outputId": "60470875-356f-43a8-aafc-7dc854a858c2"
      },
      "source": [
        "#checking for count of unique species\n",
        "iris['species'].value_counts().to_frame()"
      ],
      "execution_count": null,
      "outputs": [
        {
          "output_type": "execute_result",
          "data": {
            "text/html": [
              "<div>\n",
              "<style scoped>\n",
              "    .dataframe tbody tr th:only-of-type {\n",
              "        vertical-align: middle;\n",
              "    }\n",
              "\n",
              "    .dataframe tbody tr th {\n",
              "        vertical-align: top;\n",
              "    }\n",
              "\n",
              "    .dataframe thead th {\n",
              "        text-align: right;\n",
              "    }\n",
              "</style>\n",
              "<table border=\"1\" class=\"dataframe\">\n",
              "  <thead>\n",
              "    <tr style=\"text-align: right;\">\n",
              "      <th></th>\n",
              "      <th>species</th>\n",
              "    </tr>\n",
              "  </thead>\n",
              "  <tbody>\n",
              "    <tr>\n",
              "      <th>Iris-setosa</th>\n",
              "      <td>50</td>\n",
              "    </tr>\n",
              "    <tr>\n",
              "      <th>Iris-virginica</th>\n",
              "      <td>50</td>\n",
              "    </tr>\n",
              "    <tr>\n",
              "      <th>Iris-versicolor</th>\n",
              "      <td>50</td>\n",
              "    </tr>\n",
              "  </tbody>\n",
              "</table>\n",
              "</div>"
            ],
            "text/plain": [
              "                 species\n",
              "Iris-setosa           50\n",
              "Iris-virginica        50\n",
              "Iris-versicolor       50"
            ]
          },
          "metadata": {},
          "execution_count": 12
        }
      ]
    },
    {
      "cell_type": "markdown",
      "metadata": {
        "id": "k0XqwSOSjh-k"
      },
      "source": [
        "## DATA VISUALISATION"
      ]
    },
    {
      "cell_type": "code",
      "metadata": {
        "colab": {
          "base_uri": "https://localhost:8080/",
          "height": 538
        },
        "id": "J9E4jYZvS3mp",
        "outputId": "4a6d6c0b-c73d-453c-b1d5-591585af384f"
      },
      "source": [
        "iris.head().plot(x=\"species\", y=[\"sepal_length_cms\", \"sepal_width_cms\", \"petal_length_cms\", \"petal_width_cms\"], kind=\"bar\", figsize=(9,8))\n",
        "plt.show()"
      ],
      "execution_count": null,
      "outputs": [
        {
          "output_type": "display_data",
          "data": {
            "image/png": "[encoded data removed]",
            "text/plain": [
              "<Figure size 648x576 with 1 Axes>"
            ]
          },
          "metadata": {
            "needs_background": "light"
          }
        }
      ]
    },
    {
      "cell_type": "markdown",
      "metadata": {
        "id": "OR1rOnxoUMz-"
      },
      "source": [
        "#### This is a plot showing the relationship between all five variables of the dataframe. To obtain a clear graph, the head() function is used to minimize the input data, which happens to be only about species *Iris-setosa*. "
      ]
    },
    {
      "cell_type": "code",
      "metadata": {
        "colab": {
          "base_uri": "https://localhost:8080/",
          "height": 296
        },
        "id": "UYFMIqKfDwpE",
        "outputId": "94f6a7de-46c7-4735-9092-b07a729b3213"
      },
      "source": [
        "sns.boxplot(x=\"species\", y= \"sepal_length_cms\", data= iris)"
      ],
      "execution_count": null,
      "outputs": [
        {
          "output_type": "execute_result",
          "data": {
            "text/plain": [
              "<matplotlib.axes._subplots.AxesSubplot at 0x7feb875575d0>"
            ]
          },
          "metadata": {},
          "execution_count": 16
        },
        {
          "output_type": "display_data",
          "data": {
            "image/png": "[encoded data removed]",
            "text/plain": [
              "<Figure size 432x288 with 1 Axes>"
            ]
          },
          "metadata": {
            "needs_background": "light"
          }
        }
      ]
    },
    {
      "cell_type": "markdown",
      "metadata": {
        "id": "mHdcKW1kxd0s"
      },
      "source": [
        "#### Using Box-plot , we can see the distribution of different categories of Iris species over their Sepal length feature. \n",
        "#### We can see that the sepal length of species *Iris-virginica* is in a range of length longer than the other two. There also seems to be an outlier situated below the lower extreme of the species' plot. "
      ]
    },
    {
      "cell_type": "code",
      "metadata": {
        "colab": {
          "base_uri": "https://localhost:8080/",
          "height": 296
        },
        "id": "JgzqNYvXwgR6",
        "outputId": "226468c1-06f7-4543-cbc4-e88300cca67c"
      },
      "source": [
        "#boxplot to show the distribution of Iris species over their petal length feature\n",
        "sns.boxplot(x=\"species\", y= \"petal_length_cms\", data= iris)"
      ],
      "execution_count": null,
      "outputs": [
        {
          "output_type": "execute_result",
          "data": {
            "text/plain": [
              "<matplotlib.axes._subplots.AxesSubplot at 0x7feb874a2610>"
            ]
          },
          "metadata": {},
          "execution_count": 17
        },
        {
          "output_type": "display_data",
          "data": {
            "image/png": "[encoded data removed]",
            "text/plain": [
              "<Figure size 432x288 with 1 Axes>"
            ]
          },
          "metadata": {
            "needs_background": "light"
          }
        }
      ]
    },
    {
      "cell_type": "code",
      "metadata": {
        "colab": {
          "base_uri": "https://localhost:8080/",
          "height": 299
        },
        "id": "t7mr0uZCza55",
        "outputId": "2f11eebd-e05d-4213-8fd5-09f2d4259191"
      },
      "source": [
        "#boxplot to show the distribution of the Iris species over their sepal width feature\n",
        "sns.boxplot(x=\"species\", y= \"sepal_width_cms\", data= iris)"
      ],
      "execution_count": null,
      "outputs": [
        {
          "output_type": "execute_result",
          "data": {
            "text/plain": [
              "<matplotlib.axes._subplots.AxesSubplot at 0x7feb8743d090>"
            ]
          },
          "metadata": {},
          "execution_count": 18
        },
        {
          "output_type": "display_data",
          "data": {
            "image/png": "[encoded data removed]",
            "text/plain": [
              "<Figure size 432x288 with 1 Axes>"
            ]
          },
          "metadata": {
            "needs_background": "light"
          }
        }
      ]
    },
    {
      "cell_type": "markdown",
      "metadata": {
        "id": "vVk1npg5RelR"
      },
      "source": [
        "#### Here, the species *Iris-setosa* has larger sepal width when compared to the species *Iris-virginica*. \n",
        "\n"
      ]
    },
    {
      "cell_type": "code",
      "metadata": {
        "colab": {
          "base_uri": "https://localhost:8080/",
          "height": 296
        },
        "id": "nohdTx14VRQm",
        "outputId": "81c7d340-4b9d-4886-b506-5fe0fb0c19d4"
      },
      "source": [
        "#boxplot to show the distribution of the Iris species over their petal width feature\n",
        "sns.boxplot(x=\"species\", y= \"petal_width_cms\", data= iris)"
      ],
      "execution_count": null,
      "outputs": [
        {
          "output_type": "execute_result",
          "data": {
            "text/plain": [
              "<matplotlib.axes._subplots.AxesSubplot at 0x7ff1101cef50>"
            ]
          },
          "metadata": {},
          "execution_count": 9
        },
        {
          "output_type": "display_data",
          "data": {
            "image/png": "[encoded data removed]",
            "text/plain": [
              "<Figure size 432x288 with 1 Axes>"
            ]
          },
          "metadata": {
            "needs_background": "light"
          }
        }
      ]
    },
    {
      "cell_type": "markdown",
      "metadata": {
        "id": "V-IC0WcpR5Cm"
      },
      "source": [
        "#### From all the four box plots above , we can infer that the feature measurements of the species *Iris-versicolor* lies in between the measurement range of the other two. "
      ]
    },
    {
      "cell_type": "markdown",
      "metadata": {
        "id": "kJlQQ_09Vu71"
      },
      "source": [
        "## MODEL TRAINING AND ACCURACY"
      ]
    },
    {
      "cell_type": "markdown",
      "metadata": {
        "id": "EqJPrnm1qNID"
      },
      "source": [
        "## Splitting Data into labels and features"
      ]
    },
    {
      "cell_type": "code",
      "metadata": {
        "id": "tYPyOUgcqMNw"
      },
      "source": [
        "X = iris.iloc[: , 1:5].values\n",
        "Y = iris.iloc[:, 5].values\n"
      ],
      "execution_count": null,
      "outputs": []
    },
    {
      "cell_type": "markdown",
      "metadata": {
        "id": "ESSaOJzfXpDE"
      },
      "source": [
        "#### Note that the dataset contains six columns , out of which only four columns \"petal_width_cms\", \"sepal_width_cms\", \"petal_length_cms\" , \"sepal_length_cms\" describe the features. The column \"species\" contains the labels. "
      ]
    },
    {
      "cell_type": "markdown",
      "metadata": {
        "id": "tr57U50Zp29g"
      },
      "source": [
        "## Label Encoding"
      ]
    },
    {
      "cell_type": "code",
      "metadata": {
        "colab": {
          "base_uri": "https://localhost:8080/"
        },
        "id": "2tRt6lLGqAM5",
        "outputId": "82668c39-3193-473a-a2fe-75168003f2df"
      },
      "source": [
        "le = LabelEncoder()\n",
        "Y = le.fit_transform(Y)\n",
        "Y"
      ],
      "execution_count": null,
      "outputs": [
        {
          "output_type": "execute_result",
          "data": {
            "text/plain": [
              "array([0, 0, 0, 0, 0, 0, 0, 0, 0, 0, 0, 0, 0, 0, 0, 0, 0, 0, 0, 0, 0, 0,\n",
              "       0, 0, 0, 0, 0, 0, 0, 0, 0, 0, 0, 0, 0, 0, 0, 0, 0, 0, 0, 0, 0, 0,\n",
              "       0, 0, 0, 0, 0, 0, 1, 1, 1, 1, 1, 1, 1, 1, 1, 1, 1, 1, 1, 1, 1, 1,\n",
              "       1, 1, 1, 1, 1, 1, 1, 1, 1, 1, 1, 1, 1, 1, 1, 1, 1, 1, 1, 1, 1, 1,\n",
              "       1, 1, 1, 1, 1, 1, 1, 1, 1, 1, 1, 1, 2, 2, 2, 2, 2, 2, 2, 2, 2, 2,\n",
              "       2, 2, 2, 2, 2, 2, 2, 2, 2, 2, 2, 2, 2, 2, 2, 2, 2, 2, 2, 2, 2, 2,\n",
              "       2, 2, 2, 2, 2, 2, 2, 2, 2, 2, 2, 2, 2, 2, 2, 2, 2, 2])"
            ]
          },
          "metadata": {},
          "execution_count": 22
        }
      ]
    },
    {
      "cell_type": "markdown",
      "metadata": {
        "id": "MKHB_CP1ZISV"
      },
      "source": [
        "#### KNN does not accept label with string datatype. Hence it is important to encode those labels.\n",
        "#### *Iris-setosa* correspond to 0, *Iris-versicolor* correspond to 1 and *Iris-virginica* correspond to 2. "
      ]
    },
    {
      "cell_type": "markdown",
      "metadata": {
        "id": "7Nspo-2hsffk"
      },
      "source": [
        "## Splitting data into test and training test"
      ]
    },
    {
      "cell_type": "code",
      "metadata": {
        "id": "UDMPJ2R_2uIZ"
      },
      "source": [
        "x = iris.drop(columns =[\"species\"])\n",
        "y = iris[\"species\"]\n",
        "x_train, x_test , y_train , y_test = train_test_split(x,y, test_size = 0.2)\n"
      ],
      "execution_count": null,
      "outputs": []
    },
    {
      "cell_type": "markdown",
      "metadata": {
        "id": "Za7KKJ-makLX"
      },
      "source": [
        "#### It is necessary to split our datasets into training and testing sets to avoid issues such as overfitting or underfitting.\n"
      ]
    },
    {
      "cell_type": "markdown",
      "metadata": {
        "id": "d8JKjXjIvJ5o"
      },
      "source": [
        "## Training the model"
      ]
    },
    {
      "cell_type": "code",
      "metadata": {
        "id": "MRQWozWLeiRd"
      },
      "source": [
        "model=KNeighborsClassifier()"
      ],
      "execution_count": null,
      "outputs": []
    },
    {
      "cell_type": "code",
      "metadata": {
        "colab": {
          "base_uri": "https://localhost:8080/"
        },
        "id": "2pnnPxiC6Yg7",
        "outputId": "eadcb10e-bd85-4e48-b51a-48f382f23623"
      },
      "source": [
        "model.fit(x_test, y_test)"
      ],
      "execution_count": null,
      "outputs": [
        {
          "output_type": "execute_result",
          "data": {
            "text/plain": [
              "KNeighborsClassifier(algorithm='auto', leaf_size=30, metric='minkowski',\n",
              "                     metric_params=None, n_jobs=None, n_neighbors=5, p=2,\n",
              "                     weights='uniform')"
            ]
          },
          "metadata": {},
          "execution_count": 35
        }
      ]
    },
    {
      "cell_type": "code",
      "metadata": {
        "colab": {
          "base_uri": "https://localhost:8080/"
        },
        "id": "gaOf8He758yb",
        "outputId": "da2a788c-1647-4516-fca7-3779ca268b08"
      },
      "source": [
        "print(\"Accuracy of the model is \", model.score(x_test,y_test)*100)"
      ],
      "execution_count": null,
      "outputs": [
        {
          "output_type": "stream",
          "name": "stdout",
          "text": [
            "Accuracy of the model is  100.0\n"
          ]
        }
      ]
    }
  ]
}